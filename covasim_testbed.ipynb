{
 "cells": [
  {
   "cell_type": "code",
   "execution_count": 1,
   "metadata": {},
   "outputs": [
    {
     "name": "stdout",
     "output_type": "stream",
     "text": [
      "3.8.5\n"
     ]
    }
   ],
   "source": [
    "from platform import python_version\n",
    "print(python_version())"
   ]
  },
  {
   "cell_type": "code",
   "execution_count": 2,
   "metadata": {},
   "outputs": [
    {
     "name": "stdout",
     "output_type": "stream",
     "text": [
      "Covasim 3.0.7 (2021-06-29) — © 2021 by IDM\n",
      "3.0.7\n"
     ]
    }
   ],
   "source": [
    "import covasim as cv\n",
    "print(cv.__version__)\n",
    "cv.options.set(verbose=0) #no print output\n",
    "# help(cv.options.set)\n",
    "import pandas as pd\n",
    "from numpy import mean\n",
    "\n",
    "import plotly.express as px\n",
    "import plotly.graph_objects as go"
   ]
  },
  {
   "cell_type": "code",
   "execution_count": 3,
   "metadata": {},
   "outputs": [],
   "source": [
    "# saved as helper_stats.py for the app\n",
    "\n",
    "# population data - derived from census 2019 estimate, also same as data used by covidactnow\n",
    "population_dict = {'Alabama': 4903185,\n",
    " 'Alaska': 731545,\n",
    " 'Arizona': 7278717,\n",
    " 'Arkansas': 3017804,\n",
    " 'California': 39512223,\n",
    " 'Colorado': 5758736,\n",
    " 'Connecticut': 3565287,\n",
    " 'Delaware': 973764,\n",
    " 'District of Columbia': 705749,\n",
    " 'Florida': 21477737,\n",
    " 'Georgia': 10617423,\n",
    " 'Hawaii': 1415872,\n",
    " 'Idaho': 1787065,\n",
    " 'Illinois': 12671821,\n",
    " 'Indiana': 6732219,\n",
    " 'Iowa': 3155070,\n",
    " 'Kansas': 2913314,\n",
    " 'Kentucky': 4467673,\n",
    " 'Louisiana': 4648794,\n",
    " 'Maine': 1344212,\n",
    " 'Maryland': 6045680,\n",
    " 'Massachusetts': 6892503,\n",
    " 'Michigan': 9986857,\n",
    " 'Minnesota': 5639632,\n",
    " 'Mississippi': 2976149,\n",
    " 'Missouri': 6137428,\n",
    " 'Montana': 1068778,\n",
    " 'Nebraska': 1934408,\n",
    " 'Nevada': 3080156,\n",
    " 'New Hampshire': 1359711,\n",
    " 'New Jersey': 8882190,\n",
    " 'New Mexico': 2096829,\n",
    " 'New York': 19453561,\n",
    " 'North Carolina': 10488084,\n",
    " 'North Dakota': 762062,\n",
    " 'Ohio': 11689100,\n",
    " 'Oklahoma': 3956971,\n",
    " 'Oregon': 4217737,\n",
    " 'Pennsylvania': 12801989,\n",
    " 'Rhode Island': 1059361,\n",
    " 'South Carolina': 5148714,\n",
    " 'South Dakota': 884659,\n",
    " 'Tennessee': 6829174,\n",
    " 'Texas': 28995881,\n",
    " 'Utah': 3205958,\n",
    " 'Vermont': 623989,\n",
    " 'Virginia': 8535519,\n",
    " 'Washington': 7614893,\n",
    " 'West Virginia': 1792147,\n",
    " 'Wisconsin': 5822434,\n",
    " 'Wyoming': 578759,\n",
    " 'Puerto Rico': 3193694,\n",
    " 'USA': 328239523}\n",
    "\n",
    "\n",
    "us_state_abbrev = {\n",
    "    'Alabama': 'AL',\n",
    "    'Alaska': 'AK',\n",
    "    'American Samoa': 'AS',\n",
    "    'Arizona': 'AZ',\n",
    "    'Arkansas': 'AR',\n",
    "    'California': 'CA',\n",
    "    'Colorado': 'CO',\n",
    "    'Connecticut': 'CT',\n",
    "    'Delaware': 'DE',\n",
    "    'District of Columbia': 'DC',\n",
    "    'Florida': 'FL',\n",
    "    'Georgia': 'GA',\n",
    "    'Guam': 'GU',\n",
    "    'Hawaii': 'HI',\n",
    "    'Idaho': 'ID',\n",
    "    'Illinois': 'IL',\n",
    "    'Indiana': 'IN',\n",
    "    'Iowa': 'IA',\n",
    "    'Kansas': 'KS',\n",
    "    'Kentucky': 'KY',\n",
    "    'Louisiana': 'LA',\n",
    "    'Maine': 'ME',\n",
    "    'Maryland': 'MD',\n",
    "    'Massachusetts': 'MA',\n",
    "    'Michigan': 'MI',\n",
    "    'Minnesota': 'MN',\n",
    "    'Mississippi': 'MS',\n",
    "    'Missouri': 'MO',\n",
    "    'Montana': 'MT',\n",
    "    'Nebraska': 'NE',\n",
    "    'Nevada': 'NV',\n",
    "    'New Hampshire': 'NH',\n",
    "    'New Jersey': 'NJ',\n",
    "    'New Mexico': 'NM',\n",
    "    'New York': 'NY',\n",
    "    'North Carolina': 'NC',\n",
    "    'North Dakota': 'ND',\n",
    "    'Northern Mariana Islands':'MP',\n",
    "    'Ohio': 'OH',\n",
    "    'Oklahoma': 'OK',\n",
    "    'Oregon': 'OR',\n",
    "    'Pennsylvania': 'PA',\n",
    "    'Puerto Rico': 'PR',\n",
    "    'Rhode Island': 'RI',\n",
    "    'South Carolina': 'SC',\n",
    "    'South Dakota': 'SD',\n",
    "    'Tennessee': 'TN',\n",
    "    'Texas': 'TX',\n",
    "    'Utah': 'UT',\n",
    "    'Vermont': 'VT',\n",
    "    'Virgin Islands': 'VI',\n",
    "    'Virginia': 'VA',\n",
    "    'Washington': 'WA',\n",
    "    'West Virginia': 'WV',\n",
    "    'Wisconsin': 'WI',\n",
    "    'Wyoming': 'WY',\n",
    "    'USA':'USA'\n",
    "}"
   ]
  },
  {
   "cell_type": "markdown",
   "metadata": {},
   "source": [
    "### Pre-defined functions (modified from hackathon) — testing & vaccination intervention"
   ]
  },
  {
   "cell_type": "code",
   "execution_count": 4,
   "metadata": {},
   "outputs": [],
   "source": [
    "\"\"\"\n",
    "Function: test_intervention - creates intervention for a testing strategy\n",
    "Note: this only works for cases generated at event \n",
    "\n",
    "To-Do\n",
    "---------\n",
    "For testing, esp daily antigen, shouldnt the days_testing argument = 1, instead of 0. We can specify an end date to ensure that testing stops on day 1? \n",
    "See documentation: # https://docs.idmod.org/projects/covasim/en/latest/covasim.interventions.html?highlight=test_num#covasim.interventions.test_num\n",
    "\n",
    "Parameters\n",
    "----------\n",
    "test_del: Delay in test result\n",
    "days_testing: Number of days in event testing susceptibles\n",
    "subtarg: Indices of population to subtarget\n",
    "sens: Sensitivity of test used\n",
    "\n",
    "\"\"\" \n",
    "\n",
    "def test_intervention(test_del, days_testing, rapid, window, pars, incidence_avg, sens=.984, subtarg=None):\n",
    "    if (rapid):\n",
    "        pars['pop_infected'] -= sens * pars['pop_infected']\n",
    "    else:\n",
    "        num_preinfectious = sum([((1/window) * pars['pop_size'] * incidence_avg * x) for x in range(1,window+1)])\n",
    "        \n",
    "        # old preinfections\n",
    "        # Newly infected are those infected after test (assume even distribution of test date from 1 to 'window' days ago)\n",
    "        # Assume 12 days infectious, all tests within 4.6 day period from exposed->infectious (max window 4)\n",
    "        # These people will test negative even with a perfect test, because they were exposed after testing negative\n",
    "        # num_preinfectious = prevalence * pars['pop_size'] * sum([x*(1/(12*window)) for x in range(1,window+1)])\n",
    "        \n",
    "        # Finally, remove population that is detected by the reported tests\n",
    "        pars['pop_infected'] += num_preinfectious - sens * pars['pop_infected']\n",
    "        \n",
    "    \n",
    "    return cv.test_num(daily_tests=pars['pop_size']*days_testing, \n",
    "                       start_day=pars['start_day'], \n",
    "                       subtarget=subtarg,\n",
    "                       symp_test=0,\n",
    "                       sensitivity=sens,\n",
    "                       test_delay=test_del), pars\n",
    "\n",
    "\"\"\"\n",
    "Function: vaccine_intervention: Creates intervention for a vaccine-based entry strategy. returns intervention\n",
    "\n",
    "To-Do\n",
    "---------\n",
    "Check cummulative infections for mandatory vaxing - values seem way too high?\n",
    "\n",
    "Parameters\n",
    "----------\n",
    "percent_vax: Percentage of overall population vaccinated\n",
    "passport: If true, 100% of attendees must be vaccinated\n",
    "efficacy_inf: Efficacy against infection\n",
    "efficacy_symp: Efficacy against symptoms \n",
    "\"\"\"\n",
    "\n",
    "\n",
    "def vaccine_intervention(percent_vax,efficacy_inf, efficacy_symp, pars, passport = False):\n",
    "    pars['pop_infected'] -= (1-efficacy_inf) * percent_vax * pars['pop_infected']\n",
    "    if passport:\n",
    "        percent_vax = 1\n",
    "    return cv.simple_vaccine(days=0, prob=percent_vax, rel_sus=efficacy_inf, rel_symp=efficacy_symp), pars"
   ]
  },
  {
   "cell_type": "code",
   "execution_count": 5,
   "metadata": {},
   "outputs": [],
   "source": [
    "# load data files\n",
    "\n",
    "# ----- State daily data ----- \n",
    "can_state = pd.read_csv(\"states.csv\")\n",
    "\n",
    "\n",
    "# ----- USA timeseries data ----- \n",
    "can_usa_timeseries = pd.read_csv(\"UStimeseries.csv\")\n",
    "\n",
    "can_usa_timeseries.dropna(subset = ['actuals.cases'], inplace=True)\n",
    "can_usa_timeseries.dropna(subset = ['metrics.vaccinationsCompletedRatio'], inplace=True)\n",
    "\n",
    "can_usa_timeseries['date']=pd.to_datetime(can_usa_timeseries.date)\n",
    "can_usa_timeseries.sort_values(by='date', inplace=True)\n",
    "\n",
    "\n",
    "# ----- State timeseries data ----- \n",
    "can_state_timeseries = pd.read_csv(\"statestimeseries.csv\")\n",
    "can_state_timeseries.dropna(subset = ['actuals.cases'], inplace=True)\n",
    "\n",
    "can_state_timeseries['date']=pd.to_datetime(can_state_timeseries.date)\n",
    "can_state_timeseries.sort_values(by='date', inplace=True)"
   ]
  },
  {
   "cell_type": "markdown",
   "metadata": {},
   "source": [
    "### App simulation "
   ]
  },
  {
   "cell_type": "code",
   "execution_count": 6,
   "metadata": {},
   "outputs": [],
   "source": [
    "def run_sim(n_clicks, location, event_duration, num_people, event_setting, test_setting, vax_setting, npi, show_plot=False):\n",
    "    if n_clicks < 1: \n",
    "        avp_fig = go.Figure()\n",
    "        return avp_fig, avp_fig\n",
    "    # ----- basic event characteristics ----- \n",
    "    event_duration = event_duration if event_duration != None else 1 #temp fix for misfiring nclicks\n",
    "    num_people = num_people if num_people != None else 1\n",
    "    covsim_location = \"USA-\" + location if location != \"USA\" else \"USA\"\n",
    "    event_environment= None if event_setting == \"Mixed\" else event_setting\n",
    "    test_type= None if test_setting == \"No Testing\" else test_setting\n",
    "    use_vaccines=False if vax_setting == \"No Vaccination\" else True\n",
    "    mandatory_vax=True if vax_setting == \"Mandatory Vaccination\" else False\n",
    "    mask_wearing = True if 1 in npi else False\n",
    "    # print(npi)\n",
    "    # print(\"test_setting: \", test_setting)\n",
    "    # print(\"vax_setting: \", vax_setting)\n",
    "    # print(\"event_environment:\", event_environment, \n",
    "    # \"test_type:\", test_type, \"use_vaccines:\", use_vaccines, \"mandatory_vax:\", mandatory_vax)\n",
    "\n",
    "    # ---------- Point estimates ---------- \n",
    "    indoor_factor = 9.35\n",
    "    outdoor_factor = .11 \n",
    "    mask_factor = .56\n",
    "    ventilation_factor = .69\n",
    "    capacity_factor = .5\n",
    "    start_day = '2021-07-01' # default start date\n",
    "    variant_transmissibility = 1.67 \n",
    "    \n",
    "    # location-specific & other characteristics\n",
    "    under_rep_factor = 4.3\n",
    "    location_pop = population_dict[location]\n",
    "    \n",
    "    state_abv = us_state_abbrev[location]\n",
    "    if state_abv == 'USA':\n",
    "        location_total_inf = can_usa_timeseries.iloc[-1]['actuals.cases'] # total cases for a location\n",
    "        location_cases_d10 = sum(can_usa_timeseries.iloc[range(-10,0,1)]['actuals.newCases'].values) # total cases in last 10 days\n",
    "        perc_vax = can_usa_timeseries.iloc[-1]['metrics.vaccinationsCompletedRatio'] # % of people fully vaccinated\n",
    "        incidence_avg = mean(can_usa_timeseries.iloc[range(-7,0,1)]['actuals.newCases'].values) # avg new cases last 7 days\n",
    "    else:\n",
    "        location_total_inf = can_state[can_state['state']==state_abv]['actuals.cases'].values[0]  \n",
    "        location_cases_d10 = sum(can_state_timeseries[can_state_timeseries['state']==state_abv].iloc[range(-10,0,1)]['actuals.newCases'].values)\n",
    "        perc_vax = can_state[can_state['state']==state_abv]['metrics.vaccinationsCompletedRatio'].values[0]\n",
    "        incidence_avg = mean(can_state_timeseries[can_state_timeseries['state']==state_abv].iloc[range(-7,0,1)]['actuals.newCases'].values)\n",
    "        \n",
    "    # print(\"location: {}, location abv: {}\".format(location, state_abv))\n",
    "    # print(\"location_total_inf: {}, location_cases_d10: {}, perc_vax: {}\".format(location_total_inf, location_cases_d10, perc_vax))\n",
    "    \n",
    "    # calculate location specific prevelance\n",
    "    prevalence = (location_cases_d10*under_rep_factor)/location_pop # 0.014 - old number\n",
    "    \n",
    "    # calculate location specific susceptibility proportion\n",
    "    susceptibility_proportion = 1-((location_total_inf * under_rep_factor)/location_pop) #0.747 - old number\n",
    "    \n",
    "    # vaccination levels:\n",
    "    v_efficacy_inf = .1 # Vax efficacy against infection (e.g .2 == 80% efficacy)\n",
    "    v_efficacy_symp = .06 # Vax efficacy against symptoms\n",
    "    \n",
    "    # ---------- Define parameters in covasim format ---------- \n",
    "    pars = dict(\n",
    "        pop_type = 'hybrid', # Use a more realistic population model\n",
    "        pop_size = num_people,\n",
    "        pop_infected = num_people*prevalence,\n",
    "        start_day = start_day,\n",
    "        n_days = event_duration,\n",
    "        location = covsim_location # Case insensitive\n",
    "    )\n",
    "    \n",
    "    # ----------  model changes (variants, environment, NPIs, testing, vaccines) to beta on day 0 ---------- \n",
    "    all_interventions = []\n",
    "    \n",
    "    # variant transmissibility\n",
    "    variant_trans = cv.change_beta(0, variant_transmissibility*susceptibility_proportion)\n",
    "    all_interventions.append(variant_trans)\n",
    "    \n",
    "    # environment\n",
    "    if event_environment == \"Indoor\":\n",
    "        environment = cv.change_beta(0, indoor_factor)\n",
    "        all_interventions.append(environment)\n",
    "    elif event_environment == \"Outdoor\":\n",
    "        environment = cv.change_beta(0, outdoor_factor)\n",
    "        all_interventions.append(environment)\n",
    "    \n",
    "    # mask wearing\n",
    "    if mask_wearing:\n",
    "        masks = cv.change_beta(0, mask_factor)\n",
    "        all_interventions.append(masks)   \n",
    "    \n",
    "    # testing \n",
    "    \"\"\"\n",
    "    -   test_del: Delay in test result\n",
    "    -   days_testing: Number of days in event testing susceptibles\n",
    "    -   subtarg: Indices of population to subtarget\n",
    "    -   sens: Sensitivity of test used\n",
    "    \"\"\"\n",
    " \n",
    "    testing_scenarios = {\n",
    "        # format = [test_del, days_testing, rapid, window]\n",
    "        \"Entry antigen\":[0,0,True,0],\n",
    "        \"Daily antigen\": [0,event_duration,True,0], #[0,7,True,0]\n",
    "        \"PCR 2-day\":[0,0,False,2],\n",
    "        \"PCR 4-day\":[0,0,False,4],        \n",
    "    } \n",
    "    subtarg = None # Subtargetting of tests\n",
    "    sens = .984 # Sensitivity of test used\n",
    "    if test_type != None:\n",
    "        test_int, pars = test_intervention(test_del=testing_scenarios[test_type][0], \n",
    "                                           days_testing=testing_scenarios[test_type][1], \n",
    "                                           rapid=testing_scenarios[test_type][2], \n",
    "                                           window=testing_scenarios[test_type][3], \n",
    "                                           pars=pars,\n",
    "                                           incidence_avg=incidence_avg,\n",
    "                                           sens=sens)\n",
    "        all_interventions.append(test_int)\n",
    "        \n",
    "    \n",
    "    # vaccinations - assumes state level vax numbers (default), unless otherwise specified (either mandatory vax, or no vax)\n",
    "    passport = mandatory_vax # True if 100% of attendees must be vaccinated\n",
    "    if use_vaccines:\n",
    "        vc, pars = vaccine_intervention(perc_vax, v_efficacy_inf, v_efficacy_symp, pars, passport)\n",
    "        all_interventions.append(vc)\n",
    "\n",
    "    \n",
    "    # ---------- run simulation ----------\n",
    "    # print(\"Running SIMULATION\")\n",
    "    sim = cv.Sim(pars, interventions = all_interventions)\n",
    "    msim = cv.MultiSim(sim)\n",
    "    msim.run(n_runs=10)\n",
    "    msim.mean()\n",
    "    # msim.plot(to_plot=['new_infections', 'cum_infections'])\n",
    "    sim_json = msim.to_json()\n",
    "\n",
    "    # ---------- plotting ----------\n",
    "    df_new_infections = pd.DataFrame(list(zip(sim_json['results']['t'], \n",
    "                            sim_json['results']['new_infections'],\n",
    "                            sim_json['results']['new_infections_low'],\n",
    "                            sim_json['results']['new_infections_high'])),\n",
    "                    columns =['dates','new_infections', 'new_infections_low', 'new_infections_high'])\n",
    "    \n",
    "    df_cum_infections = pd.DataFrame(list(zip(sim_json['results']['t'], \n",
    "                            sim_json['results']['cum_infections'],\n",
    "                            sim_json['results']['cum_infections_low'],\n",
    "                            sim_json['results']['cum_infections_high'])),\n",
    "                    columns =['dates','cum_infections', 'cum_infections_low', 'cum_infections_high'])\n",
    "\n",
    "    df_new_infections[df_new_infections < 0] = 0\n",
    "    df_cum_infections[df_cum_infections < 0] = 0\n",
    "\n",
    "\n",
    "    avp_fig = go.Figure([\n",
    "        go.Scatter(\n",
    "            x=df_new_infections['dates'].tolist(),\n",
    "            y=df_new_infections['new_infections'].tolist(),\n",
    "            line=dict(color='rgb(0,100,80)'),\n",
    "            mode='lines',\n",
    "            name=\"Estimated New Cases\",\n",
    "            showlegend=True\n",
    "        ),\n",
    "        go.Scatter(\n",
    "            x=df_new_infections['dates'].tolist()+df_new_infections['dates'].tolist()[::-1], # x, then x reversed\n",
    "            y=df_new_infections['new_infections_high'].tolist()+df_new_infections['new_infections_low'].tolist()[::-1], # upper, then lower reversed\n",
    "            fill='toself',\n",
    "            fillcolor='rgba(0,100,80,0.2)',\n",
    "            line=dict(color='rgba(255,255,255,0)'),\n",
    "            hoverinfo=\"skip\",\n",
    "            showlegend=True,\n",
    "            name = '95% Confidence Interval'\n",
    "        )\n",
    "    ])\n",
    "    #  https://stackoverflow.com/questions/55704058/plotly-how-to-set-the-range-of-the-y-axis\n",
    "    avp_fig.update_layout(yaxis_range=[-0.1,max(max(df_new_infections['new_infections_high'].tolist()), 8)+2],\n",
    "    yaxis_title='Cases',\n",
    "    xaxis_title='Day',\n",
    "    title_text='New Daily Infections', title_x=0.5, title_y=0.875,\n",
    "    hovermode=\"x\",\n",
    "    xaxis = dict(dtick = 1),\n",
    "    showlegend=True,\n",
    "    legend=dict(yanchor=\"top\",\n",
    "                y=0.99,\n",
    "                xanchor=\"left\",\n",
    "                x=0.01)\n",
    "    )\n",
    "\n",
    "    \n",
    "\n",
    "    cum_infections_high = df_cum_infections['cum_infections_high'].tolist()\n",
    "    cum_infections = df_cum_infections['cum_infections'].tolist()\n",
    "    loc_fig = go.Figure([\n",
    "        go.Scatter(\n",
    "            x=df_cum_infections['dates'].tolist(),\n",
    "            y=df_cum_infections['cum_infections'].tolist(),\n",
    "            line=dict(color='rgb(0,100,80)'),\n",
    "            mode='lines',\n",
    "            name=\"Estimated Total Cases\",\n",
    "            showlegend=True\n",
    "        ),\n",
    "        go.Scatter(\n",
    "            x=df_cum_infections['dates'].tolist()+df_cum_infections['dates'].tolist()[::-1], # x, then x reversed\n",
    "            y=df_cum_infections['cum_infections_high'].tolist()+df_cum_infections['cum_infections_low'].tolist()[::-1], # upper, then lower reversed\n",
    "            fill='toself',\n",
    "            fillcolor='rgba(0,100,80,0.2)',\n",
    "            line=dict(color='rgba(255,255,255,0)'),\n",
    "            hoverinfo=\"skip\",\n",
    "            name = '95% Confidence Interval',\n",
    "            showlegend=True\n",
    "        \n",
    "        )\n",
    "    ])\n",
    "    loc_fig.update_layout(\n",
    "    yaxis_range=[max(-0.1,min(cum_infections)-1),max(max(cum_infections_high), 8)+5],\n",
    "    yaxis_title='Cases',\n",
    "    xaxis_title='Day',\n",
    "    title_text='Cummulative Infections', title_x=0.5, title_y=0.875,\n",
    "    hovermode=\"x\",\n",
    "    xaxis = dict(dtick = 1),\n",
    "    showlegend=True,\n",
    "    legend=dict(yanchor=\"top\",\n",
    "                y=0.99,\n",
    "                xanchor=\"left\",\n",
    "                x=0.01)\n",
    "    )\n",
    "    if show_plot:\n",
    "        avp_fig.show()\n",
    "        loc_fig.show()\n",
    "    return df_new_infections, df_cum_infections"
   ]
  },
  {
   "cell_type": "markdown",
   "metadata": {},
   "source": [
    "## Comparing environment without interventions"
   ]
  },
  {
   "cell_type": "code",
   "execution_count": 11,
   "metadata": {
    "scrolled": false
   },
   "outputs": [
    {
     "name": "stdout",
     "output_type": "stream",
     "text": [
      "   dates  new_infections  new_infections_low  new_infections_high\n",
      "0      0             0.0            0.000000             0.000000\n",
      "1      1             0.1            0.000000             0.700000\n",
      "2      2             2.6            0.000000             7.515282\n",
      "3      3            10.6            3.159570            18.040430\n",
      "4      4            23.8            8.416892            39.183108\n",
      "5      5            32.2           23.400000            41.000000\n",
      "6      6            33.7           18.493422            48.906578\n",
      "7      7            38.0           15.074032            60.925968\n",
      "   dates  cum_infections  cum_infections_low  cum_infections_high\n",
      "0      0           129.0          129.000000           129.000000\n",
      "1      1           129.1          128.500000           129.700000\n",
      "2      2           131.7          126.879212           136.520788\n",
      "3      3           142.3          132.021868           152.578132\n",
      "4      4           166.1          143.838823           188.361177\n",
      "5      5           198.3          174.315839           222.284161\n",
      "6      6           232.0          194.274677           269.725323\n",
      "7      7           270.0          212.055199           327.944801\n"
     ]
    }
   ],
   "source": [
    "\"\"\"\n",
    "Parameter defintions\n",
    "--------------------\n",
    "- n_clicks: required for app, ignore\n",
    "- location: \"USA\", or one of the 50 states or territories (see us_state_abbrev dict keys for full list). Enter full name.\n",
    "- event_duration: int, 1-7 days\n",
    "- num_people: int, 1-100000 individuals\n",
    "- event_setting: \"Mixed\", \"Indoor\", \"Outdoor\"\n",
    "- test_setting =  \"No Testing\", \"Entry antigen\", \"Daily antigen\", \"PCR 2-day\" \"PCR 4-day\"\n",
    "- vax_setting = \"No Vaccination\", \"Mandatory Vaccination\" otherwise Default (assumes regional prevalence)\n",
    "- npi = [0] (no masking, default), [1] (masking)\n",
    "- show_plot = False (default)\n",
    "\n",
    "Currently the above code does not return negative confidence intervals - to obtain commment out the following code above:\n",
    "    df_new_infections[df_new_infections < 0] = 0\n",
    "    df_cum_infections[df_cum_infections < 0] = 0\n",
    "    \n",
    "    \n",
    "The function is currently setup to return two data frames for each scenario - df_new_infections, df_cum_infections.\n",
    "This can be easily changed by modifying the following code above:\n",
    "\n",
    "    sim_json = msim.to_json() # <-- save output as json (similar to a dict)\n",
    "\n",
    "    # ---------- plotting ----------\n",
    "    \n",
    "    #  access relevant elements from sim_json, convert to list and then pandas dataframe\n",
    "    df_new_infections = pd.DataFrame(list(zip(sim_json['results']['t'], \n",
    "                            sim_json['results']['new_infections'],\n",
    "                            sim_json['results']['new_infections_low'],\n",
    "                            sim_json['results']['new_infections_high'])),\n",
    "                    columns =['dates','new_infections', 'new_infections_low', 'new_infections_high'])\n",
    "    \n",
    "    df_cum_infections = pd.DataFrame(list(zip(sim_json['results']['t'], \n",
    "                            sim_json['results']['cum_infections'],\n",
    "                            sim_json['results']['cum_infections_low'],\n",
    "                            sim_json['results']['cum_infections_high'])),\n",
    "                    columns =['dates','cum_infections', 'cum_infections_low', 'cum_infections_high'])\n",
    "\n",
    "\n",
    "\"\"\"\n",
    "\n",
    "\n",
    "\n",
    "default_scen_new_inf, default_scen_cum_inf = run_sim(n_clicks=1, location=\"USA\", \n",
    "                                                     event_duration=7, \n",
    "                                                     num_people=10000, \n",
    "                                                     event_setting=\"Mixed\", \n",
    "                                                     test_setting=\"No Testing\", \n",
    "                                                     vax_setting=\"No Vaccination\", \n",
    "                                                     npi=[0], \n",
    "                                                     show_plot=False)\n",
    "\n",
    "print(default_scen_new_inf)\n",
    "print(default_scen_cum_inf)"
   ]
  },
  {
   "cell_type": "code",
   "execution_count": 12,
   "metadata": {
    "scrolled": false
   },
   "outputs": [
    {
     "name": "stdout",
     "output_type": "stream",
     "text": [
      "   dates  new_infections  new_infections_low  new_infections_high\n",
      "0      0             0.0            0.000000             0.000000\n",
      "1      1             0.2            0.000000             1.400000\n",
      "2      2            22.1            0.000000            64.868680\n",
      "3      3            94.8           52.801905           136.798095\n",
      "4      4           194.4          126.752679           262.047321\n",
      "5      5           244.7          181.390917           308.009083\n",
      "6      6           311.3          210.217657           412.382343\n",
      "7      7           475.4          347.731053           603.068947\n",
      "   dates  cum_infections  cum_infections_low  cum_infections_high\n",
      "0      0           129.0          129.000000           129.000000\n",
      "1      1           129.2          128.000000           130.400000\n",
      "2      2           151.3          108.703756           193.896244\n",
      "3      3           246.1          192.245010           299.954990\n",
      "4      4           440.5          348.720917           532.279083\n",
      "5      5           685.2          541.681918           828.718082\n",
      "6      6           996.5          763.271786          1229.728214\n",
      "7      7          1471.9         1131.190798          1812.609202\n"
     ]
    }
   ],
   "source": [
    "# Indoor\n",
    "indoor_scen_new_inf, indoor_scen_cum_inf = run_sim(n_clicks=1, location=\"USA\", \n",
    "                                                     event_duration=7, \n",
    "                                                     num_people=10000, \n",
    "                                                     event_setting=\"Indoor\", \n",
    "                                                     test_setting=\"No Testing\", \n",
    "                                                     vax_setting=\"No Vaccination\", \n",
    "                                                     npi=[0], \n",
    "                                                     show_plot=False)\n",
    "\n",
    "print(indoor_scen_new_inf)\n",
    "print(indoor_scen_cum_inf)"
   ]
  },
  {
   "cell_type": "code",
   "execution_count": 13,
   "metadata": {},
   "outputs": [
    {
     "name": "stdout",
     "output_type": "stream",
     "text": [
      "   dates  new_infections  new_infections_low  new_infections_high\n",
      "0      0             0.0            0.000000             0.000000\n",
      "1      1             0.1            0.000000             0.700000\n",
      "2      2             0.2            0.000000             1.000000\n",
      "3      3             1.5            0.000000             4.069047\n",
      "4      4             2.7            0.000000             5.673214\n",
      "5      5             4.3            0.000000             8.686342\n",
      "6      6             3.9            0.000000            10.377654\n",
      "7      7             5.1            1.819756             8.380244\n",
      "   dates  cum_infections  cum_infections_low  cum_infections_high\n",
      "0      0           129.0          129.000000           129.000000\n",
      "1      1           129.1          128.500000           129.700000\n",
      "2      2           129.3          128.383485           130.216515\n",
      "3      3           130.8          127.727542           133.872458\n",
      "4      4           133.5          128.746054           138.253946\n",
      "5      5           137.8          130.544657           145.055343\n",
      "6      6           141.7          131.940902           151.459098\n",
      "7      7           146.8          135.671658           157.928342\n"
     ]
    }
   ],
   "source": [
    "# Outdoor\n",
    "outdoor_scen_new_inf, outdoor_scen_cum_inf = run_sim(n_clicks=1, location=\"USA\", \n",
    "                                                     event_duration=7, \n",
    "                                                     num_people=10000, \n",
    "                                                     event_setting=\"Outdoor\", \n",
    "                                                     test_setting=\"No Testing\", \n",
    "                                                     vax_setting=\"No Vaccination\", \n",
    "                                                     npi=[0], \n",
    "                                                     show_plot=False)\n",
    "\n",
    "print(outdoor_scen_new_inf)\n",
    "print(outdoor_scen_cum_inf)"
   ]
  },
  {
   "cell_type": "code",
   "execution_count": 48,
   "metadata": {},
   "outputs": [
    {
     "data": {
      "application/vnd.plotly.v1+json": {
       "config": {
        "plotlyServerURL": "https://plot.ly"
       },
       "data": [
        {
         "line": {
          "color": "rgb(0,100,80)"
         },
         "mode": "lines",
         "name": "Mixed",
         "showlegend": true,
         "type": "scatter",
         "x": [
          0,
          1,
          2,
          3,
          4,
          5,
          6,
          7
         ],
         "y": [
          0,
          0.1,
          2.6,
          10.6,
          23.8,
          32.2,
          33.7,
          38
         ]
        },
        {
         "fill": "toself",
         "fillcolor": "rgba(0,100,80,0.2)",
         "hoverinfo": "skip",
         "line": {
          "color": "rgba(255,255,255,0)"
         },
         "showlegend": false,
         "type": "scatter",
         "x": [
          0,
          1,
          2,
          3,
          4,
          5,
          6,
          7,
          7,
          6,
          5,
          4,
          3,
          2,
          1,
          0
         ],
         "y": [
          0,
          0.7000000000000001,
          7.515282290977803,
          18.04043009509531,
          39.18310761842353,
          41,
          48.90657752421629,
          60.925967809451365,
          15.074032190548639,
          18.493422475783714,
          23.400000000000002,
          8.416892381576474,
          3.15956990490469,
          0,
          0,
          0
         ]
        },
        {
         "line": {
          "color": "rgb(255,0,0)"
         },
         "mode": "lines",
         "name": "Indoors",
         "showlegend": true,
         "type": "scatter",
         "x": [
          0,
          1,
          2,
          3,
          4,
          5,
          6,
          7
         ],
         "y": [
          0,
          0.2,
          22.1,
          94.8,
          194.4,
          244.7,
          311.3,
          475.4
         ]
        },
        {
         "fill": "toself",
         "fillcolor": "rgba(255,0,0,0.2)",
         "hoverinfo": "skip",
         "line": {
          "color": "rgba(255,255,255,0)"
         },
         "showlegend": false,
         "type": "scatter",
         "x": [
          0,
          1,
          2,
          3,
          4,
          5,
          6,
          7,
          7,
          6,
          5,
          4,
          3,
          2,
          1,
          0
         ],
         "y": [
          0,
          1.4000000000000001,
          64.86868012927218,
          136.7980951949014,
          262.04732071560557,
          308.00908307660126,
          412.38234267170503,
          603.0689468899935,
          347.7310531100064,
          210.217657328295,
          181.39091692339872,
          126.75267928439443,
          52.801904805098594,
          0,
          0,
          0
         ]
        },
        {
         "line": {
          "color": "rgb(0,0,255)"
         },
         "mode": "lines",
         "name": "Outdoors",
         "showlegend": true,
         "type": "scatter",
         "x": [
          0,
          1,
          2,
          3,
          4,
          5,
          6,
          7
         ],
         "y": [
          0,
          0.1,
          0.2,
          1.5,
          2.7,
          4.3,
          3.9,
          5.1
         ]
        },
        {
         "fill": "toself",
         "fillcolor": "rgba(0,0,255,0.2)",
         "hoverinfo": "skip",
         "line": {
          "color": "rgba(255,255,255,0)"
         },
         "showlegend": false,
         "type": "scatter",
         "x": [
          0,
          1,
          2,
          3,
          4,
          5,
          6,
          7,
          7,
          6,
          5,
          4,
          3,
          2,
          1,
          0
         ],
         "y": [
          0,
          0.7000000000000001,
          1.0000000000000002,
          4.069046515733026,
          5.673213749463701,
          8.686342439892261,
          10.377653896280659,
          8.380243893371345,
          1.8197561066286543,
          0,
          0,
          0,
          0,
          0,
          0,
          0
         ]
        }
       ],
       "layout": {
        "template": {
         "data": {
          "bar": [
           {
            "error_x": {
             "color": "#2a3f5f"
            },
            "error_y": {
             "color": "#2a3f5f"
            },
            "marker": {
             "line": {
              "color": "#E5ECF6",
              "width": 0.5
             },
             "pattern": {
              "fillmode": "overlay",
              "size": 10,
              "solidity": 0.2
             }
            },
            "type": "bar"
           }
          ],
          "barpolar": [
           {
            "marker": {
             "line": {
              "color": "#E5ECF6",
              "width": 0.5
             },
             "pattern": {
              "fillmode": "overlay",
              "size": 10,
              "solidity": 0.2
             }
            },
            "type": "barpolar"
           }
          ],
          "carpet": [
           {
            "aaxis": {
             "endlinecolor": "#2a3f5f",
             "gridcolor": "white",
             "linecolor": "white",
             "minorgridcolor": "white",
             "startlinecolor": "#2a3f5f"
            },
            "baxis": {
             "endlinecolor": "#2a3f5f",
             "gridcolor": "white",
             "linecolor": "white",
             "minorgridcolor": "white",
             "startlinecolor": "#2a3f5f"
            },
            "type": "carpet"
           }
          ],
          "choropleth": [
           {
            "colorbar": {
             "outlinewidth": 0,
             "ticks": ""
            },
            "type": "choropleth"
           }
          ],
          "contour": [
           {
            "colorbar": {
             "outlinewidth": 0,
             "ticks": ""
            },
            "colorscale": [
             [
              0,
              "#0d0887"
             ],
             [
              0.1111111111111111,
              "#46039f"
             ],
             [
              0.2222222222222222,
              "#7201a8"
             ],
             [
              0.3333333333333333,
              "#9c179e"
             ],
             [
              0.4444444444444444,
              "#bd3786"
             ],
             [
              0.5555555555555556,
              "#d8576b"
             ],
             [
              0.6666666666666666,
              "#ed7953"
             ],
             [
              0.7777777777777778,
              "#fb9f3a"
             ],
             [
              0.8888888888888888,
              "#fdca26"
             ],
             [
              1,
              "#f0f921"
             ]
            ],
            "type": "contour"
           }
          ],
          "contourcarpet": [
           {
            "colorbar": {
             "outlinewidth": 0,
             "ticks": ""
            },
            "type": "contourcarpet"
           }
          ],
          "heatmap": [
           {
            "colorbar": {
             "outlinewidth": 0,
             "ticks": ""
            },
            "colorscale": [
             [
              0,
              "#0d0887"
             ],
             [
              0.1111111111111111,
              "#46039f"
             ],
             [
              0.2222222222222222,
              "#7201a8"
             ],
             [
              0.3333333333333333,
              "#9c179e"
             ],
             [
              0.4444444444444444,
              "#bd3786"
             ],
             [
              0.5555555555555556,
              "#d8576b"
             ],
             [
              0.6666666666666666,
              "#ed7953"
             ],
             [
              0.7777777777777778,
              "#fb9f3a"
             ],
             [
              0.8888888888888888,
              "#fdca26"
             ],
             [
              1,
              "#f0f921"
             ]
            ],
            "type": "heatmap"
           }
          ],
          "heatmapgl": [
           {
            "colorbar": {
             "outlinewidth": 0,
             "ticks": ""
            },
            "colorscale": [
             [
              0,
              "#0d0887"
             ],
             [
              0.1111111111111111,
              "#46039f"
             ],
             [
              0.2222222222222222,
              "#7201a8"
             ],
             [
              0.3333333333333333,
              "#9c179e"
             ],
             [
              0.4444444444444444,
              "#bd3786"
             ],
             [
              0.5555555555555556,
              "#d8576b"
             ],
             [
              0.6666666666666666,
              "#ed7953"
             ],
             [
              0.7777777777777778,
              "#fb9f3a"
             ],
             [
              0.8888888888888888,
              "#fdca26"
             ],
             [
              1,
              "#f0f921"
             ]
            ],
            "type": "heatmapgl"
           }
          ],
          "histogram": [
           {
            "marker": {
             "pattern": {
              "fillmode": "overlay",
              "size": 10,
              "solidity": 0.2
             }
            },
            "type": "histogram"
           }
          ],
          "histogram2d": [
           {
            "colorbar": {
             "outlinewidth": 0,
             "ticks": ""
            },
            "colorscale": [
             [
              0,
              "#0d0887"
             ],
             [
              0.1111111111111111,
              "#46039f"
             ],
             [
              0.2222222222222222,
              "#7201a8"
             ],
             [
              0.3333333333333333,
              "#9c179e"
             ],
             [
              0.4444444444444444,
              "#bd3786"
             ],
             [
              0.5555555555555556,
              "#d8576b"
             ],
             [
              0.6666666666666666,
              "#ed7953"
             ],
             [
              0.7777777777777778,
              "#fb9f3a"
             ],
             [
              0.8888888888888888,
              "#fdca26"
             ],
             [
              1,
              "#f0f921"
             ]
            ],
            "type": "histogram2d"
           }
          ],
          "histogram2dcontour": [
           {
            "colorbar": {
             "outlinewidth": 0,
             "ticks": ""
            },
            "colorscale": [
             [
              0,
              "#0d0887"
             ],
             [
              0.1111111111111111,
              "#46039f"
             ],
             [
              0.2222222222222222,
              "#7201a8"
             ],
             [
              0.3333333333333333,
              "#9c179e"
             ],
             [
              0.4444444444444444,
              "#bd3786"
             ],
             [
              0.5555555555555556,
              "#d8576b"
             ],
             [
              0.6666666666666666,
              "#ed7953"
             ],
             [
              0.7777777777777778,
              "#fb9f3a"
             ],
             [
              0.8888888888888888,
              "#fdca26"
             ],
             [
              1,
              "#f0f921"
             ]
            ],
            "type": "histogram2dcontour"
           }
          ],
          "mesh3d": [
           {
            "colorbar": {
             "outlinewidth": 0,
             "ticks": ""
            },
            "type": "mesh3d"
           }
          ],
          "parcoords": [
           {
            "line": {
             "colorbar": {
              "outlinewidth": 0,
              "ticks": ""
             }
            },
            "type": "parcoords"
           }
          ],
          "pie": [
           {
            "automargin": true,
            "type": "pie"
           }
          ],
          "scatter": [
           {
            "marker": {
             "colorbar": {
              "outlinewidth": 0,
              "ticks": ""
             }
            },
            "type": "scatter"
           }
          ],
          "scatter3d": [
           {
            "line": {
             "colorbar": {
              "outlinewidth": 0,
              "ticks": ""
             }
            },
            "marker": {
             "colorbar": {
              "outlinewidth": 0,
              "ticks": ""
             }
            },
            "type": "scatter3d"
           }
          ],
          "scattercarpet": [
           {
            "marker": {
             "colorbar": {
              "outlinewidth": 0,
              "ticks": ""
             }
            },
            "type": "scattercarpet"
           }
          ],
          "scattergeo": [
           {
            "marker": {
             "colorbar": {
              "outlinewidth": 0,
              "ticks": ""
             }
            },
            "type": "scattergeo"
           }
          ],
          "scattergl": [
           {
            "marker": {
             "colorbar": {
              "outlinewidth": 0,
              "ticks": ""
             }
            },
            "type": "scattergl"
           }
          ],
          "scattermapbox": [
           {
            "marker": {
             "colorbar": {
              "outlinewidth": 0,
              "ticks": ""
             }
            },
            "type": "scattermapbox"
           }
          ],
          "scatterpolar": [
           {
            "marker": {
             "colorbar": {
              "outlinewidth": 0,
              "ticks": ""
             }
            },
            "type": "scatterpolar"
           }
          ],
          "scatterpolargl": [
           {
            "marker": {
             "colorbar": {
              "outlinewidth": 0,
              "ticks": ""
             }
            },
            "type": "scatterpolargl"
           }
          ],
          "scatterternary": [
           {
            "marker": {
             "colorbar": {
              "outlinewidth": 0,
              "ticks": ""
             }
            },
            "type": "scatterternary"
           }
          ],
          "surface": [
           {
            "colorbar": {
             "outlinewidth": 0,
             "ticks": ""
            },
            "colorscale": [
             [
              0,
              "#0d0887"
             ],
             [
              0.1111111111111111,
              "#46039f"
             ],
             [
              0.2222222222222222,
              "#7201a8"
             ],
             [
              0.3333333333333333,
              "#9c179e"
             ],
             [
              0.4444444444444444,
              "#bd3786"
             ],
             [
              0.5555555555555556,
              "#d8576b"
             ],
             [
              0.6666666666666666,
              "#ed7953"
             ],
             [
              0.7777777777777778,
              "#fb9f3a"
             ],
             [
              0.8888888888888888,
              "#fdca26"
             ],
             [
              1,
              "#f0f921"
             ]
            ],
            "type": "surface"
           }
          ],
          "table": [
           {
            "cells": {
             "fill": {
              "color": "#EBF0F8"
             },
             "line": {
              "color": "white"
             }
            },
            "header": {
             "fill": {
              "color": "#C8D4E3"
             },
             "line": {
              "color": "white"
             }
            },
            "type": "table"
           }
          ]
         },
         "layout": {
          "annotationdefaults": {
           "arrowcolor": "#2a3f5f",
           "arrowhead": 0,
           "arrowwidth": 1
          },
          "autotypenumbers": "strict",
          "coloraxis": {
           "colorbar": {
            "outlinewidth": 0,
            "ticks": ""
           }
          },
          "colorscale": {
           "diverging": [
            [
             0,
             "#8e0152"
            ],
            [
             0.1,
             "#c51b7d"
            ],
            [
             0.2,
             "#de77ae"
            ],
            [
             0.3,
             "#f1b6da"
            ],
            [
             0.4,
             "#fde0ef"
            ],
            [
             0.5,
             "#f7f7f7"
            ],
            [
             0.6,
             "#e6f5d0"
            ],
            [
             0.7,
             "#b8e186"
            ],
            [
             0.8,
             "#7fbc41"
            ],
            [
             0.9,
             "#4d9221"
            ],
            [
             1,
             "#276419"
            ]
           ],
           "sequential": [
            [
             0,
             "#0d0887"
            ],
            [
             0.1111111111111111,
             "#46039f"
            ],
            [
             0.2222222222222222,
             "#7201a8"
            ],
            [
             0.3333333333333333,
             "#9c179e"
            ],
            [
             0.4444444444444444,
             "#bd3786"
            ],
            [
             0.5555555555555556,
             "#d8576b"
            ],
            [
             0.6666666666666666,
             "#ed7953"
            ],
            [
             0.7777777777777778,
             "#fb9f3a"
            ],
            [
             0.8888888888888888,
             "#fdca26"
            ],
            [
             1,
             "#f0f921"
            ]
           ],
           "sequentialminus": [
            [
             0,
             "#0d0887"
            ],
            [
             0.1111111111111111,
             "#46039f"
            ],
            [
             0.2222222222222222,
             "#7201a8"
            ],
            [
             0.3333333333333333,
             "#9c179e"
            ],
            [
             0.4444444444444444,
             "#bd3786"
            ],
            [
             0.5555555555555556,
             "#d8576b"
            ],
            [
             0.6666666666666666,
             "#ed7953"
            ],
            [
             0.7777777777777778,
             "#fb9f3a"
            ],
            [
             0.8888888888888888,
             "#fdca26"
            ],
            [
             1,
             "#f0f921"
            ]
           ]
          },
          "colorway": [
           "#636efa",
           "#EF553B",
           "#00cc96",
           "#ab63fa",
           "#FFA15A",
           "#19d3f3",
           "#FF6692",
           "#B6E880",
           "#FF97FF",
           "#FECB52"
          ],
          "font": {
           "color": "#2a3f5f"
          },
          "geo": {
           "bgcolor": "white",
           "lakecolor": "white",
           "landcolor": "#E5ECF6",
           "showlakes": true,
           "showland": true,
           "subunitcolor": "white"
          },
          "hoverlabel": {
           "align": "left"
          },
          "hovermode": "closest",
          "mapbox": {
           "style": "light"
          },
          "paper_bgcolor": "white",
          "plot_bgcolor": "#E5ECF6",
          "polar": {
           "angularaxis": {
            "gridcolor": "white",
            "linecolor": "white",
            "ticks": ""
           },
           "bgcolor": "#E5ECF6",
           "radialaxis": {
            "gridcolor": "white",
            "linecolor": "white",
            "ticks": ""
           }
          },
          "scene": {
           "xaxis": {
            "backgroundcolor": "#E5ECF6",
            "gridcolor": "white",
            "gridwidth": 2,
            "linecolor": "white",
            "showbackground": true,
            "ticks": "",
            "zerolinecolor": "white"
           },
           "yaxis": {
            "backgroundcolor": "#E5ECF6",
            "gridcolor": "white",
            "gridwidth": 2,
            "linecolor": "white",
            "showbackground": true,
            "ticks": "",
            "zerolinecolor": "white"
           },
           "zaxis": {
            "backgroundcolor": "#E5ECF6",
            "gridcolor": "white",
            "gridwidth": 2,
            "linecolor": "white",
            "showbackground": true,
            "ticks": "",
            "zerolinecolor": "white"
           }
          },
          "shapedefaults": {
           "line": {
            "color": "#2a3f5f"
           }
          },
          "ternary": {
           "aaxis": {
            "gridcolor": "white",
            "linecolor": "white",
            "ticks": ""
           },
           "baxis": {
            "gridcolor": "white",
            "linecolor": "white",
            "ticks": ""
           },
           "bgcolor": "#E5ECF6",
           "caxis": {
            "gridcolor": "white",
            "linecolor": "white",
            "ticks": ""
           }
          },
          "title": {
           "x": 0.05
          },
          "xaxis": {
           "automargin": true,
           "gridcolor": "white",
           "linecolor": "white",
           "ticks": "",
           "title": {
            "standoff": 15
           },
           "zerolinecolor": "white",
           "zerolinewidth": 2
          },
          "yaxis": {
           "automargin": true,
           "gridcolor": "white",
           "linecolor": "white",
           "ticks": "",
           "title": {
            "standoff": 15
           },
           "zerolinecolor": "white",
           "zerolinewidth": 2
          }
         }
        },
        "title": {
         "text": "New Daily Infections",
         "x": 0.5,
         "y": 0.875
        },
        "xaxis": {
         "title": {
          "text": "Cases"
         }
        },
        "yaxis": {
         "title": {
          "text": "Day"
         }
        }
       }
      },
      "text/html": [
       "<div>                            <div id=\"eb657209-0361-4133-92fd-28c89b52a63b\" class=\"plotly-graph-div\" style=\"height:525px; width:100%;\"></div>            <script type=\"text/javascript\">                require([\"plotly\"], function(Plotly) {                    window.PLOTLYENV=window.PLOTLYENV || {};                                    if (document.getElementById(\"eb657209-0361-4133-92fd-28c89b52a63b\")) {                    Plotly.newPlot(                        \"eb657209-0361-4133-92fd-28c89b52a63b\",                        [{\"line\":{\"color\":\"rgb(0,100,80)\"},\"mode\":\"lines\",\"name\":\"Mixed\",\"showlegend\":true,\"type\":\"scatter\",\"x\":[0,1,2,3,4,5,6,7],\"y\":[0.0,0.1,2.6,10.6,23.8,32.2,33.7,38.0]},{\"fill\":\"toself\",\"fillcolor\":\"rgba(0,100,80,0.2)\",\"hoverinfo\":\"skip\",\"line\":{\"color\":\"rgba(255,255,255,0)\"},\"showlegend\":false,\"type\":\"scatter\",\"x\":[0,1,2,3,4,5,6,7,7,6,5,4,3,2,1,0],\"y\":[0.0,0.7000000000000001,7.515282290977803,18.04043009509531,39.18310761842353,41.0,48.90657752421629,60.925967809451365,15.074032190548639,18.493422475783714,23.400000000000002,8.416892381576474,3.15956990490469,0.0,0.0,0.0]},{\"line\":{\"color\":\"rgb(255,0,0)\"},\"mode\":\"lines\",\"name\":\"Indoors\",\"showlegend\":true,\"type\":\"scatter\",\"x\":[0,1,2,3,4,5,6,7],\"y\":[0.0,0.2,22.1,94.8,194.4,244.7,311.3,475.4]},{\"fill\":\"toself\",\"fillcolor\":\"rgba(255,0,0,0.2)\",\"hoverinfo\":\"skip\",\"line\":{\"color\":\"rgba(255,255,255,0)\"},\"showlegend\":false,\"type\":\"scatter\",\"x\":[0,1,2,3,4,5,6,7,7,6,5,4,3,2,1,0],\"y\":[0.0,1.4000000000000001,64.86868012927218,136.7980951949014,262.04732071560557,308.00908307660126,412.38234267170503,603.0689468899935,347.7310531100064,210.217657328295,181.39091692339872,126.75267928439443,52.801904805098594,0.0,0.0,0.0]},{\"line\":{\"color\":\"rgb(0,0,255)\"},\"mode\":\"lines\",\"name\":\"Outdoors\",\"showlegend\":true,\"type\":\"scatter\",\"x\":[0,1,2,3,4,5,6,7],\"y\":[0.0,0.1,0.2,1.5,2.7,4.3,3.9,5.1]},{\"fill\":\"toself\",\"fillcolor\":\"rgba(0,0,255,0.2)\",\"hoverinfo\":\"skip\",\"line\":{\"color\":\"rgba(255,255,255,0)\"},\"showlegend\":false,\"type\":\"scatter\",\"x\":[0,1,2,3,4,5,6,7,7,6,5,4,3,2,1,0],\"y\":[0.0,0.7000000000000001,1.0000000000000002,4.069046515733026,5.673213749463701,8.686342439892261,10.377653896280659,8.380243893371345,1.8197561066286543,0.0,0.0,0.0,0.0,0.0,0.0,0.0]}],                        {\"template\":{\"data\":{\"bar\":[{\"error_x\":{\"color\":\"#2a3f5f\"},\"error_y\":{\"color\":\"#2a3f5f\"},\"marker\":{\"line\":{\"color\":\"#E5ECF6\",\"width\":0.5},\"pattern\":{\"fillmode\":\"overlay\",\"size\":10,\"solidity\":0.2}},\"type\":\"bar\"}],\"barpolar\":[{\"marker\":{\"line\":{\"color\":\"#E5ECF6\",\"width\":0.5},\"pattern\":{\"fillmode\":\"overlay\",\"size\":10,\"solidity\":0.2}},\"type\":\"barpolar\"}],\"carpet\":[{\"aaxis\":{\"endlinecolor\":\"#2a3f5f\",\"gridcolor\":\"white\",\"linecolor\":\"white\",\"minorgridcolor\":\"white\",\"startlinecolor\":\"#2a3f5f\"},\"baxis\":{\"endlinecolor\":\"#2a3f5f\",\"gridcolor\":\"white\",\"linecolor\":\"white\",\"minorgridcolor\":\"white\",\"startlinecolor\":\"#2a3f5f\"},\"type\":\"carpet\"}],\"choropleth\":[{\"colorbar\":{\"outlinewidth\":0,\"ticks\":\"\"},\"type\":\"choropleth\"}],\"contour\":[{\"colorbar\":{\"outlinewidth\":0,\"ticks\":\"\"},\"colorscale\":[[0.0,\"#0d0887\"],[0.1111111111111111,\"#46039f\"],[0.2222222222222222,\"#7201a8\"],[0.3333333333333333,\"#9c179e\"],[0.4444444444444444,\"#bd3786\"],[0.5555555555555556,\"#d8576b\"],[0.6666666666666666,\"#ed7953\"],[0.7777777777777778,\"#fb9f3a\"],[0.8888888888888888,\"#fdca26\"],[1.0,\"#f0f921\"]],\"type\":\"contour\"}],\"contourcarpet\":[{\"colorbar\":{\"outlinewidth\":0,\"ticks\":\"\"},\"type\":\"contourcarpet\"}],\"heatmap\":[{\"colorbar\":{\"outlinewidth\":0,\"ticks\":\"\"},\"colorscale\":[[0.0,\"#0d0887\"],[0.1111111111111111,\"#46039f\"],[0.2222222222222222,\"#7201a8\"],[0.3333333333333333,\"#9c179e\"],[0.4444444444444444,\"#bd3786\"],[0.5555555555555556,\"#d8576b\"],[0.6666666666666666,\"#ed7953\"],[0.7777777777777778,\"#fb9f3a\"],[0.8888888888888888,\"#fdca26\"],[1.0,\"#f0f921\"]],\"type\":\"heatmap\"}],\"heatmapgl\":[{\"colorbar\":{\"outlinewidth\":0,\"ticks\":\"\"},\"colorscale\":[[0.0,\"#0d0887\"],[0.1111111111111111,\"#46039f\"],[0.2222222222222222,\"#7201a8\"],[0.3333333333333333,\"#9c179e\"],[0.4444444444444444,\"#bd3786\"],[0.5555555555555556,\"#d8576b\"],[0.6666666666666666,\"#ed7953\"],[0.7777777777777778,\"#fb9f3a\"],[0.8888888888888888,\"#fdca26\"],[1.0,\"#f0f921\"]],\"type\":\"heatmapgl\"}],\"histogram\":[{\"marker\":{\"pattern\":{\"fillmode\":\"overlay\",\"size\":10,\"solidity\":0.2}},\"type\":\"histogram\"}],\"histogram2d\":[{\"colorbar\":{\"outlinewidth\":0,\"ticks\":\"\"},\"colorscale\":[[0.0,\"#0d0887\"],[0.1111111111111111,\"#46039f\"],[0.2222222222222222,\"#7201a8\"],[0.3333333333333333,\"#9c179e\"],[0.4444444444444444,\"#bd3786\"],[0.5555555555555556,\"#d8576b\"],[0.6666666666666666,\"#ed7953\"],[0.7777777777777778,\"#fb9f3a\"],[0.8888888888888888,\"#fdca26\"],[1.0,\"#f0f921\"]],\"type\":\"histogram2d\"}],\"histogram2dcontour\":[{\"colorbar\":{\"outlinewidth\":0,\"ticks\":\"\"},\"colorscale\":[[0.0,\"#0d0887\"],[0.1111111111111111,\"#46039f\"],[0.2222222222222222,\"#7201a8\"],[0.3333333333333333,\"#9c179e\"],[0.4444444444444444,\"#bd3786\"],[0.5555555555555556,\"#d8576b\"],[0.6666666666666666,\"#ed7953\"],[0.7777777777777778,\"#fb9f3a\"],[0.8888888888888888,\"#fdca26\"],[1.0,\"#f0f921\"]],\"type\":\"histogram2dcontour\"}],\"mesh3d\":[{\"colorbar\":{\"outlinewidth\":0,\"ticks\":\"\"},\"type\":\"mesh3d\"}],\"parcoords\":[{\"line\":{\"colorbar\":{\"outlinewidth\":0,\"ticks\":\"\"}},\"type\":\"parcoords\"}],\"pie\":[{\"automargin\":true,\"type\":\"pie\"}],\"scatter\":[{\"marker\":{\"colorbar\":{\"outlinewidth\":0,\"ticks\":\"\"}},\"type\":\"scatter\"}],\"scatter3d\":[{\"line\":{\"colorbar\":{\"outlinewidth\":0,\"ticks\":\"\"}},\"marker\":{\"colorbar\":{\"outlinewidth\":0,\"ticks\":\"\"}},\"type\":\"scatter3d\"}],\"scattercarpet\":[{\"marker\":{\"colorbar\":{\"outlinewidth\":0,\"ticks\":\"\"}},\"type\":\"scattercarpet\"}],\"scattergeo\":[{\"marker\":{\"colorbar\":{\"outlinewidth\":0,\"ticks\":\"\"}},\"type\":\"scattergeo\"}],\"scattergl\":[{\"marker\":{\"colorbar\":{\"outlinewidth\":0,\"ticks\":\"\"}},\"type\":\"scattergl\"}],\"scattermapbox\":[{\"marker\":{\"colorbar\":{\"outlinewidth\":0,\"ticks\":\"\"}},\"type\":\"scattermapbox\"}],\"scatterpolar\":[{\"marker\":{\"colorbar\":{\"outlinewidth\":0,\"ticks\":\"\"}},\"type\":\"scatterpolar\"}],\"scatterpolargl\":[{\"marker\":{\"colorbar\":{\"outlinewidth\":0,\"ticks\":\"\"}},\"type\":\"scatterpolargl\"}],\"scatterternary\":[{\"marker\":{\"colorbar\":{\"outlinewidth\":0,\"ticks\":\"\"}},\"type\":\"scatterternary\"}],\"surface\":[{\"colorbar\":{\"outlinewidth\":0,\"ticks\":\"\"},\"colorscale\":[[0.0,\"#0d0887\"],[0.1111111111111111,\"#46039f\"],[0.2222222222222222,\"#7201a8\"],[0.3333333333333333,\"#9c179e\"],[0.4444444444444444,\"#bd3786\"],[0.5555555555555556,\"#d8576b\"],[0.6666666666666666,\"#ed7953\"],[0.7777777777777778,\"#fb9f3a\"],[0.8888888888888888,\"#fdca26\"],[1.0,\"#f0f921\"]],\"type\":\"surface\"}],\"table\":[{\"cells\":{\"fill\":{\"color\":\"#EBF0F8\"},\"line\":{\"color\":\"white\"}},\"header\":{\"fill\":{\"color\":\"#C8D4E3\"},\"line\":{\"color\":\"white\"}},\"type\":\"table\"}]},\"layout\":{\"annotationdefaults\":{\"arrowcolor\":\"#2a3f5f\",\"arrowhead\":0,\"arrowwidth\":1},\"autotypenumbers\":\"strict\",\"coloraxis\":{\"colorbar\":{\"outlinewidth\":0,\"ticks\":\"\"}},\"colorscale\":{\"diverging\":[[0,\"#8e0152\"],[0.1,\"#c51b7d\"],[0.2,\"#de77ae\"],[0.3,\"#f1b6da\"],[0.4,\"#fde0ef\"],[0.5,\"#f7f7f7\"],[0.6,\"#e6f5d0\"],[0.7,\"#b8e186\"],[0.8,\"#7fbc41\"],[0.9,\"#4d9221\"],[1,\"#276419\"]],\"sequential\":[[0.0,\"#0d0887\"],[0.1111111111111111,\"#46039f\"],[0.2222222222222222,\"#7201a8\"],[0.3333333333333333,\"#9c179e\"],[0.4444444444444444,\"#bd3786\"],[0.5555555555555556,\"#d8576b\"],[0.6666666666666666,\"#ed7953\"],[0.7777777777777778,\"#fb9f3a\"],[0.8888888888888888,\"#fdca26\"],[1.0,\"#f0f921\"]],\"sequentialminus\":[[0.0,\"#0d0887\"],[0.1111111111111111,\"#46039f\"],[0.2222222222222222,\"#7201a8\"],[0.3333333333333333,\"#9c179e\"],[0.4444444444444444,\"#bd3786\"],[0.5555555555555556,\"#d8576b\"],[0.6666666666666666,\"#ed7953\"],[0.7777777777777778,\"#fb9f3a\"],[0.8888888888888888,\"#fdca26\"],[1.0,\"#f0f921\"]]},\"colorway\":[\"#636efa\",\"#EF553B\",\"#00cc96\",\"#ab63fa\",\"#FFA15A\",\"#19d3f3\",\"#FF6692\",\"#B6E880\",\"#FF97FF\",\"#FECB52\"],\"font\":{\"color\":\"#2a3f5f\"},\"geo\":{\"bgcolor\":\"white\",\"lakecolor\":\"white\",\"landcolor\":\"#E5ECF6\",\"showlakes\":true,\"showland\":true,\"subunitcolor\":\"white\"},\"hoverlabel\":{\"align\":\"left\"},\"hovermode\":\"closest\",\"mapbox\":{\"style\":\"light\"},\"paper_bgcolor\":\"white\",\"plot_bgcolor\":\"#E5ECF6\",\"polar\":{\"angularaxis\":{\"gridcolor\":\"white\",\"linecolor\":\"white\",\"ticks\":\"\"},\"bgcolor\":\"#E5ECF6\",\"radialaxis\":{\"gridcolor\":\"white\",\"linecolor\":\"white\",\"ticks\":\"\"}},\"scene\":{\"xaxis\":{\"backgroundcolor\":\"#E5ECF6\",\"gridcolor\":\"white\",\"gridwidth\":2,\"linecolor\":\"white\",\"showbackground\":true,\"ticks\":\"\",\"zerolinecolor\":\"white\"},\"yaxis\":{\"backgroundcolor\":\"#E5ECF6\",\"gridcolor\":\"white\",\"gridwidth\":2,\"linecolor\":\"white\",\"showbackground\":true,\"ticks\":\"\",\"zerolinecolor\":\"white\"},\"zaxis\":{\"backgroundcolor\":\"#E5ECF6\",\"gridcolor\":\"white\",\"gridwidth\":2,\"linecolor\":\"white\",\"showbackground\":true,\"ticks\":\"\",\"zerolinecolor\":\"white\"}},\"shapedefaults\":{\"line\":{\"color\":\"#2a3f5f\"}},\"ternary\":{\"aaxis\":{\"gridcolor\":\"white\",\"linecolor\":\"white\",\"ticks\":\"\"},\"baxis\":{\"gridcolor\":\"white\",\"linecolor\":\"white\",\"ticks\":\"\"},\"bgcolor\":\"#E5ECF6\",\"caxis\":{\"gridcolor\":\"white\",\"linecolor\":\"white\",\"ticks\":\"\"}},\"title\":{\"x\":0.05},\"xaxis\":{\"automargin\":true,\"gridcolor\":\"white\",\"linecolor\":\"white\",\"ticks\":\"\",\"title\":{\"standoff\":15},\"zerolinecolor\":\"white\",\"zerolinewidth\":2},\"yaxis\":{\"automargin\":true,\"gridcolor\":\"white\",\"linecolor\":\"white\",\"ticks\":\"\",\"title\":{\"standoff\":15},\"zerolinecolor\":\"white\",\"zerolinewidth\":2}}},\"title\":{\"text\":\"New Daily Infections\",\"x\":0.5,\"y\":0.875},\"xaxis\":{\"title\":{\"text\":\"Cases\"}},\"yaxis\":{\"title\":{\"text\":\"Day\"}}},                        {\"responsive\": true}                    ).then(function(){\n",
       "                            \n",
       "var gd = document.getElementById('eb657209-0361-4133-92fd-28c89b52a63b');\n",
       "var x = new MutationObserver(function (mutations, observer) {{\n",
       "        var display = window.getComputedStyle(gd).display;\n",
       "        if (!display || display === 'none') {{\n",
       "            console.log([gd, 'removed!']);\n",
       "            Plotly.purge(gd);\n",
       "            observer.disconnect();\n",
       "        }}\n",
       "}});\n",
       "\n",
       "// Listen for the removal of the full notebook cells\n",
       "var notebookContainer = gd.closest('#notebook-container');\n",
       "if (notebookContainer) {{\n",
       "    x.observe(notebookContainer, {childList: true});\n",
       "}}\n",
       "\n",
       "// Listen for the clearing of the current output cell\n",
       "var outputEl = gd.closest('.output');\n",
       "if (outputEl) {{\n",
       "    x.observe(outputEl, {childList: true});\n",
       "}}\n",
       "\n",
       "                        })                };                });            </script>        </div>"
      ]
     },
     "metadata": {},
     "output_type": "display_data"
    }
   ],
   "source": [
    "# Figure: Indoor, Outdoor, and Mixed\n",
    "\n",
    "fig = go.Figure([\n",
    "    go.Scatter( # Mixed\n",
    "        x=default_scen_new_inf['dates'].tolist(),\n",
    "        y=default_scen_new_inf['new_infections'].tolist(),\n",
    "        line=dict(color='rgb(0,100,80)'),\n",
    "        mode='lines',\n",
    "        name=\"Mixed\",\n",
    "        showlegend=True\n",
    "    ),\n",
    "    go.Scatter( # Mixed confidence interval\n",
    "        x=default_scen_new_inf['dates'].tolist()+default_scen_new_inf['dates'].tolist()[::-1], # x, then x reversed\n",
    "        y=default_scen_new_inf['new_infections_high'].tolist()+default_scen_new_inf['new_infections_low'].tolist()[::-1], # upper, then lower reversed\n",
    "        fill='toself',\n",
    "        fillcolor='rgba(0,100,80,0.2)',\n",
    "        line=dict(color='rgba(255,255,255,0)'),\n",
    "        hoverinfo=\"skip\",\n",
    "        showlegend=False,\n",
    "        #name = 'Mixed 95% Confidence Interval'\n",
    "    ),\n",
    "    go.Scatter( # Indoors\n",
    "        x=indoor_scen_new_inf['dates'].tolist(),\n",
    "        y=indoor_scen_new_inf['new_infections'].tolist(),\n",
    "        line=dict(color='rgb(255,0,0)'),\n",
    "        mode='lines',\n",
    "        name=\"Indoors\",\n",
    "        showlegend=True\n",
    "    ),\n",
    "    go.Scatter( # Indoors confidence interval\n",
    "        x=indoor_scen_new_inf['dates'].tolist()+indoor_scen_new_inf['dates'].tolist()[::-1], # x, then x reversed\n",
    "        y=indoor_scen_new_inf['new_infections_high'].tolist()+indoor_scen_new_inf['new_infections_low'].tolist()[::-1], # upper, then lower reversed\n",
    "        fill='toself',\n",
    "        fillcolor='rgba(255,0,0,0.2)',\n",
    "        line=dict(color='rgba(255,255,255,0)'),\n",
    "        hoverinfo=\"skip\",\n",
    "        showlegend=False,\n",
    "        #name = 'Indoors 95% Confidence Interval'\n",
    "    ),\n",
    "    go.Scatter( # Outdoors\n",
    "        x=outdoor_scen_new_inf['dates'].tolist(),\n",
    "        y=outdoor_scen_new_inf['new_infections'].tolist(),\n",
    "        line=dict(color='rgb(0,0,255)'),\n",
    "        mode='lines',\n",
    "        name=\"Outdoors\",\n",
    "        showlegend=True\n",
    "    ),\n",
    "    go.Scatter( # Outdoors confidence interval\n",
    "        x=outdoor_scen_new_inf['dates'].tolist()+outdoor_scen_new_inf['dates'].tolist()[::-1], # x, then x reversed\n",
    "        y=outdoor_scen_new_inf['new_infections_high'].tolist()+outdoor_scen_new_inf['new_infections_low'].tolist()[::-1], # upper, then lower reversed\n",
    "        fill='toself',\n",
    "        fillcolor='rgba(0,0,255,0.2)',\n",
    "        line=dict(color='rgba(255,255,255,0)'),\n",
    "        hoverinfo=\"skip\",\n",
    "        showlegend=False,\n",
    "        #name = 'Outdoors 95% Confidence Interval'\n",
    "    )\n",
    "])\n",
    "\n",
    "fig.update_layout(\n",
    "    title_text='New Daily Infections', title_x=0.5, title_y=0.875,\n",
    "    xaxis_title=\"Cases\",\n",
    "    yaxis_title=\"Day\"\n",
    ")\n",
    "\n",
    "fig.show()"
   ]
  }
 ],
 "metadata": {
  "kernelspec": {
   "display_name": "Python 3",
   "language": "python",
   "name": "python3"
  },
  "language_info": {
   "codemirror_mode": {
    "name": "ipython",
    "version": 3
   },
   "file_extension": ".py",
   "mimetype": "text/x-python",
   "name": "python",
   "nbconvert_exporter": "python",
   "pygments_lexer": "ipython3",
   "version": "3.8.5"
  }
 },
 "nbformat": 4,
 "nbformat_minor": 4
}
