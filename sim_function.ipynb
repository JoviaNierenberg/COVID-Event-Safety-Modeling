{
 "cells": [
  {
   "cell_type": "code",
   "execution_count": 1,
   "id": "af74541d",
   "metadata": {},
   "outputs": [
    {
     "name": "stdout",
     "output_type": "stream",
     "text": [
      "3.8.5 (default, Sep  4 2020, 02:22:02) \n",
      "[Clang 10.0.0 ]\n",
      "Covasim 2.1.2 (2021-03-31) — © 2021 by IDM\n"
     ]
    }
   ],
   "source": [
    "import sys\n",
    "print(sys.version)\n",
    "import covasim as cv"
   ]
  },
  {
   "cell_type": "code",
   "execution_count": 3,
   "id": "66216d04",
   "metadata": {},
   "outputs": [],
   "source": [
    "# no interventions\n",
    "def sim_without_interventions(start_day, end_day, pop_size, prevalence, variant_transmissibility, susceptibility_proportion):\n",
    "    # define parameters in covasim format\n",
    "    pars = dict(\n",
    "        pop_type = 'hybrid', # Use a more realistic population model\n",
    "        pop_size = pop_size,\n",
    "        pop_infected = pop_size*prevalence,\n",
    "        start_day = start_day,\n",
    "        end_day = end_day\n",
    "    )\n",
    "\n",
    "    # model changes in beta on day 0\n",
    "    beta_changes = cv.change_beta(0, variant_transmissibility*susceptibility_proportion)\n",
    "\n",
    "    # run simulation\n",
    "    sim = cv.Sim(pars, interventions = beta_changes)\n",
    "    msim = cv.MultiSim(sim)\n",
    "    msim.run(n_runs=10)\n",
    "    msim.mean()\n",
    "    msim.plot(to_plot=['new_infections', 'cum_infections'])"
   ]
  },
  {
   "cell_type": "markdown",
   "id": "4bd35b4a",
   "metadata": {},
   "source": [
    "# based on Winter 2020-2021 numbers, without intervention\n",
    "\n",
    "* Hybrid population (between a fully random network and a fully data-derived network), described in the [Covasim methods paper](https://www.medrxiv.org/content/10.1101/2020.05.10.20097469v3.full-text) as capturing some of the realism of synthetic population networks, without requiring as much input data, making it readily adaptable to other settings\n",
    "* Stable population for the length of the event\n",
    "* High initial prevalence of 1.4%, based on modeled US nationwide prevalence on [December 8, 2020](https://doi.org/10.1101/2020.10.07.20208504)\n",
    "* The [B117 variant](https://science.sciencemag.org/content/372/6538/eabg3055.long) has been shown to be 43-90% more transmissible, however, vaccines do work well against it. We will assume 100% prevalence of B117 or other more transmissible variants, and model this as (1.43+1.90)/2=1.67 times beta.\n",
    "* The CDC estimated [83.1 million total infections, as of January 15, 2021](https://www.cdc.gov/coronavirus/2019-ncov/cases-updates/burden.html) and the 2019 US Census estimated the total [US population as 328.2 million](https://www.census.gov/quickfacts/fact/table/US/PST045219), indicating that the proportion susceptible is 1-(83.1/328.2)=0.747 times beta.\n",
    "* Model does not include infections in the broader community resulting from infections at the event\n",
    "* The event length likely precludes showing deaths occurring from infections generated during event week, using Covasim default parameters"
   ]
  },
  {
   "cell_type": "code",
   "execution_count": null,
   "id": "0172dc2e",
   "metadata": {},
   "outputs": [],
   "source": [
    "sim_without_interventions(start_day = '2021-07-01', \n",
    "                          end_day = '2021-07-07', \n",
    "                          pop_size = 10e3, \n",
    "                          prevalence = 0.014, \n",
    "                          variant_transmissibility = 1.67, \n",
    "                          susceptibility_proportion = 0.747)"
   ]
  },
  {
   "cell_type": "code",
   "execution_count": null,
   "id": "c4993500",
   "metadata": {},
   "outputs": [],
   "source": []
  }
 ],
 "metadata": {
  "kernelspec": {
   "display_name": "Python 3",
   "language": "python",
   "name": "python3"
  },
  "language_info": {
   "codemirror_mode": {
    "name": "ipython",
    "version": 3
   },
   "file_extension": ".py",
   "mimetype": "text/x-python",
   "name": "python",
   "nbconvert_exporter": "python",
   "pygments_lexer": "ipython3",
   "version": "3.8.5"
  }
 },
 "nbformat": 4,
 "nbformat_minor": 5
}
